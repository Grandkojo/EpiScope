{
 "cells": [
  {
   "cell_type": "markdown",
   "metadata": {},
   "source": [
    "Using the time stamped data and one in accordance with google trends to do the time series analysis\n"
   ]
  },
  {
   "cell_type": "code",
   "execution_count": null,
   "metadata": {},
   "outputs": [],
   "source": [
    "import pandas as pd\n",
    "#time stamped data\n",
    "malaria_data = pd.read_csv('../artifacts/time_series/health_data_eams_malaria_time_stamped.csv')\n",
    "diabetes_data = pd.read_csv('../artifacts/time_series/health_data_eams_diabetes_time_stamped.csv')\n",
    "\n",
    "#google trends data\n",
    "malaria_trends = pd.read_csv('../artifacts/time_series/google_trends_malaria_time_stamped.csv')\n",
    "diabetes_trends = pd.read_csv('../artifacts/time_series/google_trends_diabetes_time_stamped.csv')\n",
    "\n",
    "atecennate\n",
    "artehmeter lumifanthrin, test result\n",
    "\n",
    "icdethem code values\n",
    "trstment assigned to positive\n",
    "not assigned - \n",
    "\n"
   ]
  }
 ],
 "metadata": {
  "kernelspec": {
   "display_name": "episcope_env",
   "language": "python",
   "name": "python3"
  },
  "language_info": {
   "name": "python",
   "version": "3.13.5"
  }
 },
 "nbformat": 4,
 "nbformat_minor": 2
}
